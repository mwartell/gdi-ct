{
 "cells": [
  {
   "cell_type": "code",
   "execution_count": 6,
   "metadata": {
    "collapsed": false
   },
   "outputs": [
    {
     "name": "stdout",
     "output_type": "stream",
     "text": [
      "respondent,gender,preference\r\n",
      "1011,f,p\r\n",
      "1085,m,s\r\n",
      "1099,m,s\r\n",
      "1149,f,s\r\n"
     ]
    }
   ],
   "source": [
    "! head -5 ice-cream.csv"
   ]
  },
  {
   "cell_type": "code",
   "execution_count": 8,
   "metadata": {
    "collapsed": false
   },
   "outputs": [
    {
     "name": "stdout",
     "output_type": "stream",
     "text": [
      "['respondent', 'gender', 'preference\\n']\n",
      "['1011', 'f', 'p\\n']\n",
      "['1085', 'm', 's\\n']\n",
      "['1099', 'm', 's\\n']\n",
      "['1149', 'f', 's\\n']\n",
      "['1221', 'm', 'p\\n']\n",
      "['1279', 'f', 's\\n']\n",
      "['1378', 'm', 'p\\n']\n",
      "['1396', 'f', 's\\n']\n",
      "['1420', 'm', 's\\n']\n",
      "['1435', 'f', 's\\n']\n",
      "['1438', 'm', 's\\n']\n",
      "['1533', 'f', 's\\n']\n",
      "['1564', 'f', 'p\\n']\n",
      "['1619', 'm', 'p\\n']\n",
      "['1678', 'm', 'p\\n']\n",
      "['1724', 'f', 's\\n']\n",
      "['1812', 'm', 's\\n']\n",
      "['1816', 'm', 's\\n']\n",
      "['1889', 'm', 's\\n']\n",
      "['1966', 'f', 'p\\n']\n"
     ]
    }
   ],
   "source": [
    "\"\"\"The simplest data reader.\"\"\"\n",
    "\n",
    "for line in open('ice-cream.csv'):\n",
    "    row = line.split(',')\n",
    "    print(row)"
   ]
  },
  {
   "cell_type": "code",
   "execution_count": 2,
   "metadata": {
    "collapsed": false
   },
   "outputs": [
    {
     "name": "stdout",
     "output_type": "stream",
     "text": [
      "['1011', 'f', 'p']\n",
      "['1085', 'm', 's']\n",
      "['1099', 'm', 's']\n",
      "['1149', 'f', 's']\n",
      "['1221', 'm', 'p']\n",
      "['1279', 'f', 's']\n",
      "['1378', 'm', 'p']\n",
      "['1396', 'f', 's']\n",
      "['1420', 'm', 's']\n",
      "['1435', 'f', 's']\n",
      "['1438', 'm', 's']\n",
      "['1533', 'f', 's']\n",
      "['1564', 'f', 'p']\n",
      "['1619', 'm', 'p']\n",
      "['1678', 'm', 'p']\n",
      "['1724', 'f', 's']\n",
      "['1812', 'm', 's']\n",
      "['1816', 'm', 's']\n",
      "['1889', 'm', 's']\n",
      "['1966', 'f', 'p']\n"
     ]
    }
   ],
   "source": [
    "def read_data(path):\n",
    "    \"\"\"Reads comma separated data from path.\"\"\"\n",
    "    infile = open(path)\n",
    "    infile.readline()   # discard headers\n",
    "    for line in infile:\n",
    "        line = line.strip()\n",
    "        row = line.split(',')\n",
    "        print(row)\n",
    "\n",
    "read_data('ice-cream.csv')"
   ]
  },
  {
   "cell_type": "code",
   "execution_count": 3,
   "metadata": {
    "collapsed": false
   },
   "outputs": [
    {
     "ename": "TypeError",
     "evalue": "unsupported operand type(s) for /: 'str' and 'int'",
     "output_type": "error",
     "traceback": [
      "\u001b[0;31m---------------------------------------------------------------------------\u001b[0m\n\u001b[0;31mTypeError\u001b[0m                                 Traceback (most recent call last)",
      "\u001b[0;32m<ipython-input-3-d7fb3fe3ccac>\u001b[0m in \u001b[0;36m<module>\u001b[0;34m()\u001b[0m\n\u001b[0;32m----> 1\u001b[0;31m \u001b[0;34m'1011'\u001b[0m \u001b[0;34m/\u001b[0m \u001b[0;36m10\u001b[0m\u001b[0;34m\u001b[0m\u001b[0m\n\u001b[0m",
      "\u001b[0;31mTypeError\u001b[0m: unsupported operand type(s) for /: 'str' and 'int'"
     ]
    }
   ],
   "source": [
    "'1011' / 10"
   ]
  },
  {
   "cell_type": "code",
   "execution_count": 4,
   "metadata": {
    "collapsed": false
   },
   "outputs": [
    {
     "ename": "AssertionError",
     "evalue": "",
     "output_type": "error",
     "traceback": [
      "\u001b[0;31m---------------------------------------------------------------------------\u001b[0m\n\u001b[0;31mAssertionError\u001b[0m                            Traceback (most recent call last)",
      "\u001b[0;32m<ipython-input-4-97e5abe8d21b>\u001b[0m in \u001b[0;36m<module>\u001b[0;34m()\u001b[0m\n\u001b[1;32m      1\u001b[0m \u001b[0mrow\u001b[0m \u001b[0;34m=\u001b[0m \u001b[0;34m[\u001b[0m\u001b[0;34m'1011'\u001b[0m\u001b[0;34m,\u001b[0m \u001b[0;34m'f'\u001b[0m\u001b[0;34m,\u001b[0m \u001b[0;34m't'\u001b[0m\u001b[0;34m]\u001b[0m\u001b[0;34m\u001b[0m\u001b[0m\n\u001b[0;32m----> 2\u001b[0;31m \u001b[0;32massert\u001b[0m \u001b[0mrow\u001b[0m\u001b[0;34m[\u001b[0m\u001b[0;36m1\u001b[0m\u001b[0;34m]\u001b[0m \u001b[0;32min\u001b[0m \u001b[0;34m'mf'\u001b[0m \u001b[0;32mand\u001b[0m \u001b[0mrow\u001b[0m\u001b[0;34m[\u001b[0m\u001b[0;36m2\u001b[0m\u001b[0;34m]\u001b[0m \u001b[0;32min\u001b[0m \u001b[0;34m'ps'\u001b[0m\u001b[0;34m\u001b[0m\u001b[0m\n\u001b[0m",
      "\u001b[0;31mAssertionError\u001b[0m: "
     ]
    }
   ],
   "source": [
    "row = ['1011', 'f', 't']\n",
    "assert row[1] in 'mf' and row[2] in 'ps'"
   ]
  },
  {
   "cell_type": "code",
   "execution_count": 5,
   "metadata": {
    "collapsed": false
   },
   "outputs": [
    {
     "data": {
      "text/plain": [
       "['\"damon', ' matt\"', ' m', ' p']"
      ]
     },
     "execution_count": 5,
     "metadata": {},
     "output_type": "execute_result"
    }
   ],
   "source": [
    "line = '\"damon, matt\", m, p'\n",
    "line.split(',')"
   ]
  },
  {
   "cell_type": "code",
   "execution_count": 9,
   "metadata": {
    "collapsed": false
   },
   "outputs": [
    {
     "name": "stdout",
     "output_type": "stream",
     "text": [
      "f p\n",
      "m s\n",
      "m s\n",
      "f s\n",
      "m p\n",
      "f s\n",
      "m p\n",
      "f s\n",
      "m s\n",
      "f s\n",
      "m s\n",
      "f s\n",
      "f p\n",
      "m p\n",
      "m p\n",
      "f s\n",
      "m s\n",
      "m s\n",
      "m s\n",
      "f p\n"
     ]
    }
   ],
   "source": [
    "import csv\n",
    "\n",
    "def read_data(path):\n",
    "    \"\"\"Reads comma separated data from path.\"\"\"\n",
    "    with open(path) as csvfile:\n",
    "        reader = csv.DictReader(csvfile)\n",
    "        for row in reader:\n",
    "            assert row['gender'] in 'mf'\n",
    "            assert row['preference'] in 'ps'\n",
    "            print(row['gender'], row['preference'])\n",
    "\n",
    "read_data('ice-cream.csv')"
   ]
  },
  {
   "cell_type": "code",
   "execution_count": 14,
   "metadata": {
    "collapsed": false
   },
   "outputs": [],
   "source": [
    "counts = {\n",
    " 'm': \n",
    "    {'s': 8,\n",
    "     'p': 12},\n",
    " 'f':\n",
    "    {'s': 16,\n",
    "     'p': 4}\n",
    "}"
   ]
  },
  {
   "cell_type": "code",
   "execution_count": 12,
   "metadata": {
    "collapsed": false
   },
   "outputs": [
    {
     "data": {
      "text/plain": [
       "{'p': 4, 's': 16}"
      ]
     },
     "execution_count": 12,
     "metadata": {},
     "output_type": "execute_result"
    }
   ],
   "source": [
    "counts['f']"
   ]
  },
  {
   "cell_type": "code",
   "execution_count": 13,
   "metadata": {
    "collapsed": false
   },
   "outputs": [
    {
     "data": {
      "text/plain": [
       "4"
      ]
     },
     "execution_count": 13,
     "metadata": {},
     "output_type": "execute_result"
    }
   ],
   "source": [
    "counts['f']['p']"
   ]
  },
  {
   "cell_type": "code",
   "execution_count": 15,
   "metadata": {
    "collapsed": false
   },
   "outputs": [
    {
     "name": "stdout",
     "output_type": "stream",
     "text": [
      "{'m': defaultdict(<class 'int'>, {'p': 4, 's': 7}), 'f': defaultdict(<class 'int'>, {'p': 3, 's': 6})}\n"
     ]
    }
   ],
   "source": [
    "import csv\n",
    "from collections import defaultdict\n",
    "\n",
    "def ice_cream_counts(path):\n",
    "    \"\"\"Returns gender/preference counts from csv in path.\"\"\"\n",
    "    counts = {'m': defaultdict(int), 'f': defaultdict(int)}\n",
    "\n",
    "    with open(path) as csvfile:\n",
    "        reader = csv.DictReader(csvfile)\n",
    "        for row in reader:\n",
    "            counts[row['gender']][row['preference']] += 1\n",
    "\n",
    "    return counts\n",
    "\n",
    "counts = ice_cream_counts('ice-cream.csv')\n",
    "print(counts)"
   ]
  },
  {
   "cell_type": "code",
   "execution_count": 17,
   "metadata": {
    "collapsed": false
   },
   "outputs": [
    {
     "name": "stdout",
     "output_type": "stream",
     "text": [
      "<!DOCTYPE html>\n",
      "    <html><head><title>Ice Cream Preferences</title></head><body>\n",
      "    <table border=\"1\">\n",
      "    <tr> <th>preference</th> <th>female</th> <th>male</th> </tr>\n",
      "<tr> <td>pistachio</td> <td>3</td> <td>4</td> </tr>\n",
      "<tr> <td>strawberry</td> <td>6</td> <td>7</td> </tr>\n",
      "</table></body></html>\n"
     ]
    }
   ],
   "source": [
    "def write_html(counts):\n",
    "    flavors = {'p': 'pistachio', 's': 'strawberry'}\n",
    "\n",
    "    heading = \"\"\"<!DOCTYPE html>\n",
    "    <html><head><title>Ice Cream Preferences</title></head><body>\n",
    "    <table border=\"1\">\n",
    "    <tr> <th>preference</th> <th>female</th> <th>male</th> </tr>\"\"\"\n",
    "    table_row = '<tr> <td>{}</td> <td>{}</td> <td>{}</td> </tr>'\n",
    "\n",
    "    print(heading)\n",
    "    for f, flavor in flavors.items():\n",
    "        print(table_row.format(flavor, counts['f'][f], counts['m'][f]))\n",
    "    print('</table></body></html>')\n",
    "\n",
    "counts = ice_cream_counts('ice-cream.csv')\n",
    "write_html(counts)"
   ]
  },
  {
   "cell_type": "code",
   "execution_count": null,
   "metadata": {
    "collapsed": true
   },
   "outputs": [],
   "source": []
  }
 ],
 "metadata": {
  "kernelspec": {
   "display_name": "IPython (Python 3)",
   "language": "python",
   "name": "python3"
  },
  "language_info": {
   "name": "python",
   "version": "3.4.3"
  }
 },
 "nbformat": 4,
 "nbformat_minor": 0
}
